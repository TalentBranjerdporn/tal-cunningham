{
 "cells": [
  {
   "cell_type": "code",
   "execution_count": 333,
   "metadata": {},
   "outputs": [
    {
     "name": "stdout",
     "output_type": "stream",
     "text": [
      "   id        name  totalpoints\n",
      "0   1  Cyber Moon       999999\n",
      "1   2   pitabread      1000000\n",
      "2   3     Pwnstar      1000000\n",
      "3   4    nameless      1000000\n",
      "4   5  ChadPotato      1000000\n",
      "5   6  SakanaFish      1000000\n",
      "6   7      Yu Wot      1000000\n",
      "7   8       Bazba      1000000\n",
      "<class 'pandas.core.frame.DataFrame'>\n"
     ]
    }
   ],
   "source": [
    "import pandas as pd\n",
    "\n",
    "df = pd.read_csv('database - Copy.csv', index_col=False)\n",
    "# print(df)\n",
    "\n",
    "# match = df.loc[df.isin([100915599936344064]).any(axis=1)].index.tolist()[0]\n",
    "# df.iloc[(match,'points')] -= 1\n",
    "# print(df)\n",
    "\n",
    "\n",
    "match = df[df[\"id\"]==1]\n",
    "# print(match)\n",
    "df.iloc[match.index,2] -= 1\n",
    "\n",
    "print(df)\n",
    "\n",
    "filterdf = df.loc[df['name'] == 'Cyber Moon']\n",
    "print(type(filterdf))\n"
   ]
  },
  {
   "cell_type": "code",
   "execution_count": 334,
   "metadata": {},
   "outputs": [
    {
     "name": "stdout",
     "output_type": "stream",
     "text": [
      "   id    wl   points\n",
      "0   1  lose  1006.25\n",
      "1   2  lose  1337.00\n",
      "2   3   win     0.00\n",
      "3   4  lose  1345.75\n",
      "4   5   win     0.00\n",
      "5   6   win     0.00\n",
      "6   7  lose   614.25\n",
      "   id        name  totalpoints   points\n",
      "0   1  Cyber Moon   1001005.25  1006.25\n",
      "1   2   pitabread   1001337.00  1337.00\n",
      "2   3     Pwnstar   1000000.00     0.00\n",
      "3   4    nameless   1001345.75  1345.75\n",
      "4   5  ChadPotato   1000000.00     0.00\n",
      "5   6  SakanaFish   1000000.00     0.00\n",
      "6   7      Yu Wot   1000614.25   614.25\n",
      "7   8       Bazba   1000000.00     0.00\n",
      "[1 'Cyber Moon' 1001005.25 1006.25]\n",
      "[2 'pitabread' 1001337.0 1337.0]\n",
      "[3 'Pwnstar' 1000000.0 0.0]\n",
      "[4 'nameless' 1001345.75 1345.75]\n",
      "[5 'ChadPotato' 1000000.0 0.0]\n",
      "[6 'SakanaFish' 1000000.0 0.0]\n",
      "[7 'Yu Wot' 1000614.25 614.25]\n",
      "[8 'Bazba' 1000000.0 0.0]\n"
     ]
    }
   ],
   "source": [
    "df1 = pd.read_csv('database.csv')\n",
    "# print(df1)\n",
    "\n",
    "try:\n",
    "    numl = df1['wl'].value_counts()['lose']\n",
    "except KeyError:\n",
    "    numl = 1\n",
    "try:\n",
    "    numw = df1['wl'].value_counts()['win']\n",
    "except KeyError:\n",
    "    numw = 1\n",
    "total = numw + numl\n",
    "\n",
    "# try:\n",
    "#     testnum = df1['wl'].value_counts()['test']\n",
    "# except KeyError:\n",
    "#     testnum=0\n",
    "\n",
    "# # print(testnum)\n",
    "\n",
    "oddsw = numw/total\n",
    "oddsl = numl/total\n",
    "\n",
    "# # print(oddsw, oddsl)\n",
    "\n",
    "# print(1/oddsw, 1/oddsl)\n",
    "\n",
    "# for i in df1.values:\n",
    "#     if i[1] == 'lose':\n",
    "#         df1.loc['points',i[0]] *= 1/oddsl\n",
    "#         print(i)\n",
    "df1.loc[df1['wl']=='lose','points'] *= 1/oddsl\n",
    "df1.loc[df1['wl'] == 'win', 'points'] = 0\n",
    "print(df1)\n",
    "\n",
    "# print(df)\n",
    "# for i,j in enumerate(df1['id']):\n",
    "#     df.loc[df['id'] == j, 'points'] += df1.loc[df1['id']==j,'points']\n",
    "    # print(i,j)\n",
    "\n",
    "df = pd.merge(df, df1, how='left', on='id')\n",
    "df = df.drop(columns = ['wl'])\n",
    "df = df.fillna(0)\n",
    "\n",
    "# df.loc[df['id']==1,'points'] += 1\n",
    "\n",
    "# print(df)\n",
    "\n",
    "df['totalpoints'] += df['points']\n",
    "# print(df)\n",
    "# df = df.drop(columns=['points_x', 'points_y'])\n",
    "# df = df.rename(columns={'points_x': 'points'})\n",
    "# print(df)\n",
    "# print(df.at[1,'name'])\n",
    "# df = df.drop(index=range(len(df)))\n",
    "# print(df)\n",
    "print(df)\n",
    "\n",
    "for i in df.values:\n",
    "    print(i)\n",
    "# print(df.at[df[id]==100915599936344064,'points'])"
   ]
  },
  {
   "cell_type": "code",
   "execution_count": 335,
   "metadata": {},
   "outputs": [
    {
     "name": "stdout",
     "output_type": "stream",
     "text": [
      "[1 'Cyber Moon' 1001005.25 1006.25]\n",
      "[2 'pitabread' 1001337.0 1337.0]\n",
      "[3 'Pwnstar' 1000000.0 0.0]\n",
      "[4 'nameless' 1001345.75 1345.75]\n",
      "[5 'ChadPotato' 1000000.0 0.0]\n",
      "[6 'SakanaFish' 1000000.0 0.0]\n",
      "[7 'Yu Wot' 1000614.25 614.25]\n",
      "[8 'Bazba' 1000000.0 0.0]\n"
     ]
    },
    {
     "ename": "TypeError",
     "evalue": "int() can't convert non-string with explicit base",
     "output_type": "error",
     "traceback": [
      "\u001b[1;31m---------------------------------------------------------------------------\u001b[0m",
      "\u001b[1;31mTypeError\u001b[0m                                 Traceback (most recent call last)",
      "\u001b[1;32m~\\AppData\\Local\\Temp/ipykernel_26724/1542791550.py\u001b[0m in \u001b[0;36m<module>\u001b[1;34m\u001b[0m\n\u001b[0;32m     29\u001b[0m \u001b[1;31m# print(df4np)\u001b[0m\u001b[1;33m\u001b[0m\u001b[1;33m\u001b[0m\u001b[0m\n\u001b[0;32m     30\u001b[0m \u001b[1;32mfor\u001b[0m \u001b[0mi\u001b[0m \u001b[1;32min\u001b[0m \u001b[0mdf4np\u001b[0m\u001b[1;33m:\u001b[0m\u001b[1;33m\u001b[0m\u001b[1;33m\u001b[0m\u001b[0m\n\u001b[1;32m---> 31\u001b[1;33m     \u001b[0mi\u001b[0m\u001b[1;33m[\u001b[0m\u001b[1;36m0\u001b[0m\u001b[1;33m]\u001b[0m \u001b[1;33m=\u001b[0m \u001b[0mint\u001b[0m\u001b[1;33m(\u001b[0m\u001b[0mi\u001b[0m\u001b[1;33m[\u001b[0m\u001b[1;36m0\u001b[0m\u001b[1;33m]\u001b[0m\u001b[1;33m,\u001b[0m \u001b[1;36m0\u001b[0m\u001b[1;33m)\u001b[0m\u001b[1;33m\u001b[0m\u001b[1;33m\u001b[0m\u001b[0m\n\u001b[0m",
      "\u001b[1;31mTypeError\u001b[0m: int() can't convert non-string with explicit base"
     ]
    }
   ],
   "source": [
    "# print(df.to_numpy())\n",
    "\n",
    "df2 = pd.DataFrame(data = df.to_numpy(), columns=('id', 'name', 'totalpoints', 'points'))\n",
    "\n",
    "# print(df2)\n",
    "\n",
    "df1 = pd.read_csv('database.csv')\n",
    "\n",
    "df3 = pd.DataFrame(columns=('id', 'name', 'totalpoints', 'points'))\n",
    "# df = df.add(df1, column)\n",
    "# print(df3.to_numpy())\n",
    "\n",
    "dfnp = df3.to_numpy\n",
    "\n",
    "import csv\n",
    "\n",
    "header = ['id', 'name', 'totalpoints', 'points']\n",
    "dfnp = df.to_numpy()\n",
    "with open(\"database-test.csv\", 'w', encoding='UTF8', newline='') as f:\n",
    "    writer = csv.writer(f)\n",
    "    writer.writerow(header)\n",
    "    writer.writerows(dfnp)\n",
    "\n",
    "df4 = pd.read_csv('database-test.csv')\n",
    "df4np = df4.to_numpy()\n",
    "for i in df4.values:\n",
    "    print(i)\n",
    "    i[0] = hex(i[0])\n",
    "# print(df4np)\n",
    "for i in df4np:\n",
    "    i[0] = int(i[0], 0)"
   ]
  },
  {
   "cell_type": "code",
   "execution_count": null,
   "metadata": {},
   "outputs": [
    {
     "name": "stdout",
     "output_type": "stream",
     "text": [
      "58 32\n",
      "1856\n"
     ]
    }
   ],
   "source": [
    "import random\n",
    "import time\n",
    "multi = (-10, -1, 0, 1, 10, 100, 1000)\n",
    "random.seed(time.time())\n",
    "\n",
    "rint = random.randint(1, 100)\n",
    "# choice = random.choice(multi)\n",
    "choice = random.randrange(-10, 100)\n",
    "\n",
    "print(rint, choice)\n",
    "val = choice * rint\n",
    "print(val)"
   ]
  },
  {
   "cell_type": "code",
   "execution_count": null,
   "metadata": {},
   "outputs": [
    {
     "name": "stdout",
     "output_type": "stream",
     "text": [
      "0x166734927c04000\n",
      "100894799699132416\n",
      "5\n",
      "0.1830240603045843\n"
     ]
    },
    {
     "data": {
      "text/plain": [
       "True"
      ]
     },
     "execution_count": 326,
     "metadata": {},
     "output_type": "execute_result"
    }
   ],
   "source": [
    "print(hex(100894799699132416))\n",
    "\n",
    "print(int(hex(100894799699132416), 0))\n",
    "\n",
    "import random\n",
    "print(random.randint(-10, 10))\n",
    "print(random.random())\n",
    "\n",
    "'min' in 'minutes'"
   ]
  },
  {
   "cell_type": "code",
   "execution_count": 337,
   "metadata": {},
   "outputs": [
    {
     "name": "stdout",
     "output_type": "stream",
     "text": [
      "35\n",
      "17\n",
      "18\n",
      "5\n",
      "30\n",
      "20\n"
     ]
    }
   ],
   "source": [
    "lst = [35, 17, 18,5, 30, 20]\n",
    "joined = '\\n'.join([str(elem) for elem in lst])  # casting all elements to a string and joining\n",
    "print(joined)"
   ]
  }
 ],
 "metadata": {
  "interpreter": {
   "hash": "ee5cc6fef2d70a7e71ee3826687cbd150f18158e0b1eef11d4f4f92bb920e304"
  },
  "kernelspec": {
   "display_name": "Python 3.9.8 64-bit",
   "language": "python",
   "name": "python3"
  },
  "language_info": {
   "codemirror_mode": {
    "name": "ipython",
    "version": 3
   },
   "file_extension": ".py",
   "mimetype": "text/x-python",
   "name": "python",
   "nbconvert_exporter": "python",
   "pygments_lexer": "ipython3",
   "version": "3.9.8"
  },
  "orig_nbformat": 4
 },
 "nbformat": 4,
 "nbformat_minor": 2
}
